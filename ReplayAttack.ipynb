{
 "cells": [
  {
   "cell_type": "markdown",
   "id": "6ec696a3-9cd6-4a1a-88ba-f316aa764085",
   "metadata": {
    "tags": []
   },
   "source": [
    "# N-Ways to Perform an RF Replay Attack"
   ]
  },
  {
   "cell_type": "markdown",
   "id": "077a26cb-1484-479f-af8e-933110c19a04",
   "metadata": {
    "tags": []
   },
   "source": [
    "Hello! In this workshop, you’ll learn how to replay RF signals using SDR! \n",
    "\n",
    "Although this project is somewhat basic, it does step-by-step show you the process of transforming radio signals into data bits, recording them and replaying them to do a replay attack. \n",
    "\n",
    "We also want you to have fun! Each step includes starter project, and we’ll also provide solutions if you need them. \n",
    "\n",
    "Let’s get started!"
   ]
  },
  {
   "cell_type": "markdown",
   "id": "48c203f5-ec46-4535-a719-490565834163",
   "metadata": {},
   "source": [
    "## Learning Objectives\n",
    "In this module, you will learn about the following:\n",
    "- how replay attacks work\n",
    "- saving waveform to a file\n",
    "- using the `inspectrum` software for signal analysis\n",
    "- On-Off-Keying (OOK)\n",
    "- transmitting using a transmit-capable SDR\n",
    "- replaying a captured radio signal\n",
    "- synthesizing signal from bits\n",
    "- analysis using `rtl-433` and Flipper Zero"
   ]
  },
  {
   "cell_type": "markdown",
   "id": "1426e62a-6457-4adf-bac1-11b44b3478dc",
   "metadata": {
    "tags": []
   },
   "source": [
    "## Prerequisites\n",
    "- general Python knowledge\n",
    "- general purpose SDR tools or GNU Radio, installed locally.\n",
    "- RTL-SDR to receive and transmit-capable SDR to transmit RF signals  "
   ]
  },
  {
   "cell_type": "markdown",
   "id": "ec58401d-f18d-4c2b-b3db-dfb9bb4e062e",
   "metadata": {},
   "source": [
    "# Replay Attacks\n",
    "Replay attacks are a fundamental technique in wireless security testing, where a previously captured RF signal is retransmitted to trigger the same action—like unlocking a door or turning on a device. In this demonstration, I explore several different tools and workflows that can be used to carry out a replay attack, each with varying levels of complexity and control. From user-friendly devices like the Flipper Zero to more advanced signal processing platforms like GNU Radio, this hands-on approach highlights the strengths and limitations of each method.\n",
    "\n",
    "There are many ways for replay attacks, and the methods can be chosen based upon your needs and the cost, complexity, and versatility of the devices and tools available.\n",
    "\n",
    "## Setup\n",
    "In this module we will be using a simple RF radio device, a **remote control** and **HackRF** in order to receive and transmit signals. This remote is used to turn on and off the lights. Remote has A, B, and OnOff keys on it. We will first supply signal from original transmitter, capture it, and see if we can replay it later. If you have issues capturing a file, or simply you don't have any capturing device with you, you can copy the pre-captured files from the solutions folder into your working directory. There exist `HighTek_A.cf32`, `HighTek_B.cf32`, and `HighTek_OnOff.cf32` pre-captured files in the solutions folder. \n",
    "\n",
    "In the sections that follow, we'll first cover what I call a `Simple` replay attack. This does not involve analyzing signal what it contains or what is its modulation scheme. We will simply record and replay. We can do this in several ways. In the first part we will use HackRF along with **GNU Radio**, in the second part **HackRF tool `hackrf_transfer`** will be used. \n",
    "\n",
    "Later, in section ... , RF data from the remote control will be analyzed and decoded, bits will be extracted and then we will do replay attack with synthesized signal. This may be somewhat more difficult to do but there are many good open tools for this purpose. What about GNU Radio? Yes, of course GNU Radio is one of that tools, too.   \n",
    "\n",
    "<img src=\"nbimages/hightek.png\" />"
   ]
  },
  {
   "cell_type": "markdown",
   "id": "c9d5449d-bf45-4a98-8267-bab1b9813746",
   "metadata": {
    "tags": []
   },
   "source": [
    "# Simple Replay Attack with GNU Radio\n",
    "HackRF can be used in conjunction with GNU Radio flow-graphs to capture, save, and replay RF signals. This method requires some prior knowledge on GNU Radio. But the steps we will follow are: \n",
    "1. Search the signal of interest  \n",
    "2. Save the waveform ie, capture\n",
    "3. Make sure it has been captured correctly\n",
    "4. Replay the captured signal"
   ]
  },
  {
   "cell_type": "markdown",
   "id": "2ef94c36-4646-45e0-8331-92263907ec2c",
   "metadata": {},
   "source": [
    "## 1.Searching the Signal\n",
    "\n",
    "The first thing to do is to try to find the exact **operating frequency** of the device. It is a good idea to look at **ISM bands** for this task first. ISM bands or **Industrial Scientific and Medical** bands. You would use such a band is because it's unlicensed in that you are allowed to use equipment that operates in that band without you having a license yourself. There may be rules however about the authorization of the equipment even though there aren't rules about the authorization of the user of the equipment so we call those unlicensed bands. \n",
    "\n",
    "<img src=\"nbimages/ISM_bands.png\" alt=\"Drawing\" />\n",
    "\n",
    "So, we will start by making a flow graph to receive a signal from the remote control and will start with just visualize the signal we have recived. GNU Radio flowgraph sketched below helps you to monitor spectrum for signal of interest. \n",
    "\n",
    "<img src=\"nbimages/grc_1_monitor.png\" alt=\"Drawing\" />"
   ]
  },
  {
   "cell_type": "markdown",
   "id": "17f226ff-fc82-427b-9c11-80c1a21e1202",
   "metadata": {},
   "source": [
    "## Hint: Running GNU Radio from Terminal\n",
    "You can run a GNU Radio flow graph right from terminal. \n",
    "1. You need to compile the flowgraph, \n",
    "2. Then Run the python script generated\n",
    "\n",
    "Note: Do not forget to specify the filename as parameter if there is. "
   ]
  },
  {
   "cell_type": "markdown",
   "id": "b697db61-081d-4fa7-9646-7ec473c1cf6e",
   "metadata": {},
   "source": [
    "There is a pre-made flowgraph, `Monitor.grc` in the solutions directory. \n",
    "\n",
    "Click the `...` to run the solution. "
   ]
  },
  {
   "cell_type": "code",
   "execution_count": null,
   "id": "cf517a9a-342b-4a36-b783-e916ce377768",
   "metadata": {
    "tags": []
   },
   "outputs": [],
   "source": [
    "!grcc solutions/1_Monitor.grc \n",
    "!python3 Monitor.py "
   ]
  },
  {
   "cell_type": "markdown",
   "id": "7c7f22e2-63ba-4d8c-98ec-7d512dd410a3",
   "metadata": {},
   "source": [
    "**Note 1**: You will see a **continous peak at the center**, i.e., DC spike. It is not a real signal but just an **artifact** from HackRF.  "
   ]
  },
  {
   "cell_type": "markdown",
   "id": "1aec170f-f09f-4d27-a438-4a315b1c69f7",
   "metadata": {},
   "source": [
    "**Note 2**: You might observe a **mirror image** of the signal if you set gain too high! "
   ]
  },
  {
   "cell_type": "markdown",
   "id": "ebc606a5-12b0-4a66-8ae5-9234a3622b6c",
   "metadata": {},
   "source": [
    "## 2. Saving the Waveform to a File\n",
    "\n",
    "After adjusting the center frequency for optimum gain and clarity, we can use the following flowgraph `Capture.grc` and then press the peripheral remote button and ultimately capture the RF signal burst to a file. This is just a raw digital waveform. It's the information coming from the Hack RF being saved directly to a file. We are not demodulating, filtering, or doing any kind of processing whatsoever. We are just taking the data from our SDR, Hack RF, and sending it to a file. \n",
    "\n",
    "<img src=\"nbimages/grc_2_capture.png\" alt=\"Drawing\" />"
   ]
  },
  {
   "cell_type": "markdown",
   "id": "7516edfb-0654-497c-acd3-a403549e8deb",
   "metadata": {},
   "source": [
    "There is a pre-made flowgraph, `2_Capture.grc` in the solutions directory. \n",
    "\n",
    "Click the `...` to run the solution. "
   ]
  },
  {
   "cell_type": "code",
   "execution_count": null,
   "id": "c8e4e8e1-a20c-452f-a755-4d5519eff542",
   "metadata": {
    "jupyter": {
     "source_hidden": true
    },
    "tags": []
   },
   "outputs": [],
   "source": [
    "!grcc solutions/2_Capture.grc \n",
    "!python3 Capture.py --filename='HighTek_A.dat'"
   ]
  },
  {
   "cell_type": "markdown",
   "id": "150fa12f-5952-499f-aa08-6ccff4060135",
   "metadata": {},
   "source": [
    "## 3. Checking the File\n",
    "Make sure your record actually contains something meaningful! In order to verify that we have captured our signal of interest we will visualize things. We will again use a QT GUI Frequency Sink however we probably want to slow it down with a throttle block in order to perform in the same speed as real time. We should set the sample rate to be the same sample rate that we have used for the capture which was 2 million samples per second, 2 MSPS. We will give this flow graph a name `CheckRecord.grc`. Run the GR flowgraph below to see what the capture contains. \n",
    "\n",
    "<img src=\"nbimages/grc_3_check.png\" alt=\"Drawing\" />"
   ]
  },
  {
   "cell_type": "markdown",
   "id": "bdca92ae-d0e6-4c68-b0e6-8496f767aa02",
   "metadata": {},
   "source": [
    "There is a pre-made flowgraph, `3_Check.grc` in the solutions directory. \n",
    "\n",
    "Click the `...` to run the solution. "
   ]
  },
  {
   "cell_type": "code",
   "execution_count": null,
   "id": "f59fa080-2b5e-4d58-b015-713eddaf8db2",
   "metadata": {
    "jupyter": {
     "source_hidden": true
    },
    "tags": []
   },
   "outputs": [],
   "source": [
    "!grcc solutions/3_Check.grc \n",
    "!python3 Check.py --filename='HighTek_A.dat'"
   ]
  },
  {
   "cell_type": "markdown",
   "id": "0737d6fa-351e-4f5b-b685-d79a2718ab1f",
   "metadata": {},
   "source": [
    "## 4. Replaying a Captured Radio Signal\n",
    "HackRF can replay (transmit) the raw RF signal in the saved file and thereby invoke the desired peripheral activity without the use of the physical remote. \n",
    "\n",
    "<img src=\"nbimages/grc_4_replay_simple.png\" alt=\"Drawing\" />"
   ]
  },
  {
   "cell_type": "markdown",
   "id": "662d6bcf-de72-4654-bbe8-45a1130c01b6",
   "metadata": {},
   "source": [
    "There is a pre-made flowgraph, `4_Replay.grc` in the solutions directory that simply transmits the recorded signal.  \n",
    "\n",
    "Click the `...` to run the solution. "
   ]
  },
  {
   "cell_type": "code",
   "execution_count": null,
   "id": "f10af578-64fc-4054-a62e-aca0bcd1e287",
   "metadata": {
    "jupyter": {
     "source_hidden": true
    },
    "tags": []
   },
   "outputs": [],
   "source": [
    "!grcc solutions/4_Replay.grc \n",
    "!python3 Replay.py --filename='HighTek_A.dat'"
   ]
  },
  {
   "cell_type": "markdown",
   "id": "40689e7c-1df6-49c9-82bd-211e4f83bbb5",
   "metadata": {},
   "source": [
    "## 5. Replaying better \n",
    "We can do much better if we apply some **gain** and **filtering** before transmission. \n",
    "\n",
    "Amplifying our signal digitally allows us to use larger portion of the dynamic range. This is done with the multiplication block. \n",
    "\n",
    "After amplification, we apply bandpass filter, being a much better neighbor on the spectrum. \n",
    "\n",
    "<img src=\"nbimages/grc_5_replay_better.png\" alt=\"Drawing\" />"
   ]
  },
  {
   "cell_type": "markdown",
   "id": "bd3a7f33-9d54-461b-85c1-780b1a68fdf6",
   "metadata": {},
   "source": [
    "Pre-made flowgraph `ReplayBetter.grc` does all these before sending. \n",
    "\n",
    "Click the `...` to run the solution. "
   ]
  },
  {
   "cell_type": "code",
   "execution_count": null,
   "id": "d4274f87-c95b-4fdb-942c-87991097f653",
   "metadata": {},
   "outputs": [],
   "source": [
    "!grcc solutions/5_ReplayBetter.grc \n",
    "!python3 ReplayBetter.py --filename='HighTek_A.dat'"
   ]
  },
  {
   "cell_type": "markdown",
   "id": "284d1ab9-5657-43db-9b6c-67efbc96fc50",
   "metadata": {
    "tags": []
   },
   "source": [
    "# Simple Replay Attack with HackRF Tools\n",
    "One of the quickest ways to replay an RF signal when the signal center frequency is known is using the HackRF `hackrf_transfer` utility. You can use the following command to capture a radio signal and save it to a file with hackrf_transfer. "
   ]
  },
  {
   "cell_type": "code",
   "execution_count": null,
   "id": "77b2d09e-7b87-47d0-87f2-11b24d59b4b8",
   "metadata": {
    "tags": []
   },
   "outputs": [],
   "source": [
    "!hackrf_transfer -s 2000000 -f 314000000 -n 20000000 -r hackrf_transfer_314M_2MHz.cs8 -a 1 -g 32"
   ]
  },
  {
   "cell_type": "markdown",
   "id": "bfee1f5c-e63e-49a9-bd11-1a14a050026d",
   "metadata": {},
   "source": [
    "Having saved the signal, you can transmit it with the following command. "
   ]
  },
  {
   "cell_type": "markdown",
   "id": "69350bf9-2078-48a6-8696-9ab5d42d49d0",
   "metadata": {},
   "source": [
    "<mark>Keep in mind that hackrf_transfer utility uses signed 8 bit format by default. So if you just play the GNU Radio record files, it will not work! That's because GNU Radio uses floating point format. </mark>\n"
   ]
  },
  {
   "cell_type": "code",
   "execution_count": null,
   "id": "a921912a-da25-4c67-a07f-638eb99c5be3",
   "metadata": {
    "tags": []
   },
   "outputs": [],
   "source": [
    "!hackrf_transfer -s 2000000 -f 314000000 -R -t hackrf_transfer_314M_2MHz.cs8 -a 1 -x 32"
   ]
  },
  {
   "cell_type": "markdown",
   "id": "3621e28e-f880-4a37-8c10-2984f9edc905",
   "metadata": {},
   "source": [
    "# Simple Replay Attack with Flipper Zero\n",
    "The Flipper Zero is a portable, open-source multi-tool designed for pentesters, hardware enthusiasts, and hackers. It comes equipped with a range of built-in radios and interfaces, including RFID, infrared, GPIO, iButton, and sub-GHz RF. One of its most popular features is its sub-GHz module, which allows users to interact with a variety of RF-based devices such as garage doors, car key fobs, and remote switches.\n",
    "\n",
    "To capture and replay an RF signal using Flipper Zero, first open Flipper Lab, web-based platform for the Flipper device. \n",
    "<img src=\"nbimages/Flipper_1_Lab.png\" alt=\"Drawing\" />\n",
    "\n",
    "Navigate to the Sub-GHz menu and select Read mode. \n",
    "|**Sub GHz**|**Read Menu**|\n",
    "|:---:|:---:|\n",
    "| <img src=\"nbimages/Flipper_2_Sub_GHz.png\" alt=\"Drawing\" /> | <img src=\"nbimages/Flipper_3_Read.png\" alt=\"Drawing\" /> |\n",
    "\n",
    "Select the configuration like below: \n",
    "|**Configuration**|**Scanning...**|\n",
    "|:---:|:---:|\n",
    "| <img src=\"nbimages/Flipper_4_Config.png\" alt=\"Drawing\" /> | <img src=\"nbimages/Flipper_5_Scanning.png\" alt=\"Drawing\" /> |\n",
    "\n",
    "Press the button on the original remote near the Flipper, and it will display the frequency and modulation used. \n",
    "\n",
    "Once the signal is captured and saved, you can replay it by selecting the saved file and choosing Send. This feature is particularly useful for security testing of poorly secured or unencrypted RF systems. \n",
    "|**Capture**|**Details**|\n",
    "|:---:|:---:|\n",
    "| <img src=\"nbimages/Flipper_6_KeyAPress.png\" alt=\"Drawing\" /> | <img src=\"nbimages/Flipper_7_Details.png\" alt=\"Drawing\" /> |"
   ]
  },
  {
   "cell_type": "markdown",
   "id": "148d5815-2438-4474-b3c3-dbe001fc433b",
   "metadata": {},
   "source": [
    "# Decoding with rtl_433\n",
    "rtl_433 is a versatile open-source tool used with inexpensive USB software-defined radio (SDR) receivers, such as the RTL-SDR dongle. It is designed to decode a wide range of radio transmissions in the 300–928 MHz ISM bands, including signals from weather stations, tire pressure monitors, remote controls, and various IoT sensors. The tool is widely used by hobbyists, researchers, and developers to analyze and collect data from RF devices operating on common unlicensed frequencies.\n",
    "\n",
    "To capture and analyze a signal from a basic RF remote using rtl_433, connect your RTL-SDR dongle to your machine and launch the rtl_433 command-line tool. When the remote button is pressed near the SDR antenna, rtl_433 attempts to demodulate and decode the signal. If the protocol is recognized, decoded information such as device ID and button press will be printed to the terminal. While RTL_433 is primarily for receiving and decoding signals, not replaying them, the captured data can be saved and further analyzed to understand the protocol. Replay functionality would require a separate SDR transmitter and additional tools like GNU Radio or Universal Radio Hacker (URH)."
   ]
  },
  {
   "cell_type": "code",
   "execution_count": null,
   "id": "9f2bd283-b37d-42e2-9247-e31bd4188500",
   "metadata": {},
   "outputs": [],
   "source": [
    "!rtl_433 -d \"soapy=0,driver=hackrf\" -f 314e6 -s 2e6"
   ]
  },
  {
   "cell_type": "markdown",
   "id": "38064238-b420-48a4-ab4f-45d8aa2c6a42",
   "metadata": {},
   "source": [
    "It should produce an output like below: \n",
    "```\n",
    "_ _ _ _ _ _ _ _ _ _ _ _ _ _ _ _ _ _ _ _ _ _ _ _ _ _ _ _ _ _ _ _ _ _ _ _ _ _ _ _\n",
    "time      : 2025-08-01 18:38:47\n",
    "model     : Akhan-100F14 ID (20bit): 0x4b945\n",
    "Data (4bit): 0x2 (Unlock)\n",
    "_ _ _ _ _ _ _ _ _ _ _ _ _ _ _ _ _ _ _ _ _ _ _ _ _ _ _ _ _ _ _ _ _ _ _ _ _ _ _ _\n",
    "```"
   ]
  },
  {
   "cell_type": "markdown",
   "id": "22f65ddf-d069-473f-a188-25aeb682e408",
   "metadata": {},
   "source": [
    "# Decoding with Universal Readio Hacker (URH)\n",
    "Universal Radio Hacker (URH) is another powerful open-source application for analyzing unknown wireless protocols. It provides a user-friendly interface for capturing, demodulating, visualizing, and interpreting raw RF signals. URH is commonly used by security researchers and radio enthusiasts to reverse-engineer wireless communication from devices such as remote controls, sensors, and key fobs. It supports a wide range of SDR hardware like HackRF, RTL-SDR, and USRP.\n",
    "\n",
    "To capture and replay a signal from a basic RF remote using URH, first connect a compatible SDR device (e.g., RTL-SDR or HackRF) and use the Record function in URH to capture the signal while pressing the button on the remote. Once captured, you can analyze the waveform, inspect symbol patterns, and attempt to decode the underlying protocol. URH provides tools to help identify frame structures and bit patterns, even for unknown protocols. After successful analysis, if you're using a device like HackRF that supports transmission, you can use URH’s Transmit feature to replay the captured signal. This makes URH especially useful for reverse-engineering and testing RF devices, but as always, ensure that any capture or replay activities are performed legally and with proper authorization. "
   ]
  },
  {
   "cell_type": "markdown",
   "id": "9e35a911-730b-42ee-b26a-740ec810577f",
   "metadata": {},
   "source": [
    "# Decoding with Inspectrum\n",
    "\n",
    "What we have seen so far is **simple** capture and replay attack. It's pretty good considering how easy it is to accomplish. But keep in mind that we didn't have to decode this signal, we didn't have to even understand what the modulation was. Even if we don't know what the modulation is we could still capture a signal once we've identified it and then replay it and find out if that replay actually does anything. It's a pretty powerful tool to have in our toolbox being able to replay a signal. It's useful for testing systems to see if they respond to a replay packet and it's also extremely useful to create a as a means of creating a repeatable test vector that we can use. \n",
    "\n",
    "The cleanest way we could possibly transmit the signal would be actually decoding the information that was transmitted and synthesizing our new waveform that is generated on the CPU without actually capturing any noise at all.  \n"
   ]
  },
  {
   "cell_type": "markdown",
   "id": "7ef92245-d71b-4515-bd01-9b16ab0d0bdc",
   "metadata": {},
   "source": [
    "## A. Decoding with Inspectrum\n",
    "In order to take a look at what is in this waveform a little bit more in more detail we will use a piece of software called **Inspectrum**."
   ]
  },
  {
   "cell_type": "markdown",
   "id": "b0443ece-5ab8-44b4-92e8-5ec2450abe1d",
   "metadata": {},
   "source": [
    "### 1. Spectrogram View\n",
    "Inspectrum provides us with spectrogram which is a two-dimensional picture of the information that is saved in the capture\n",
    "file. What we have is **frequency** on the vertical axis and **time** on the horizontal axis. \n",
    "\n",
    "We can open Inspectrum from terminal by specifying sampling rate and file name like below. "
   ]
  },
  {
   "cell_type": "code",
   "execution_count": null,
   "id": "edac2e64-bbe4-49ea-8e11-3f168fab7ab2",
   "metadata": {},
   "outputs": [],
   "source": [
    "!inspectrum -r 2e6 HighTek_A.dat"
   ]
  },
  {
   "cell_type": "markdown",
   "id": "0bf286ce-9934-421b-9041-d8a7a9ade04e",
   "metadata": {},
   "source": [
    "I you scroll right a little bit until, we see things happening a little bit above our center frequency. We can change things like the FFT size which which affects the height of the analysis and we can change the zoom which affects the width. We can also change the color scheme depending on basically setting thresholds of which color are applied to which colors are applied to which power levels. After adjusting things like, you can see that the capture contains 6 bursts of data. The frequency is nearly consistent because everything falls in a horizontal line but the power level goes on and off very dramatically. You can see this is the\n",
    "beginning of **On-Off-Keying (OOK)** that's pretty cool that we can see that just by looking at the waveform with this tool. \n",
    "\n",
    "<img src=\"nbimages/inspectrum_1_bursts.png\" alt=\"Drawing\" />"
   ]
  },
  {
   "cell_type": "markdown",
   "id": "2fe60775-e3c5-4a32-b70f-784196340b79",
   "metadata": {},
   "source": [
    "### 2. Amplitude Plot\n",
    "Let's take a closer look at one of the bursts. Zooming in on time axis, we can see clearly that  it transmits for a while and then it's just back to noise and then it transmits for a while and then we're back to noise again. Let's take a look at how we can demodulate this and the nice thing is that Spectrum actually has some built-in demodulation capability. You have to kind of do a lot of things by hand but you can demodulate a signal like this using nothing but in Spectrum. So, we know that the amplitude is being modulated here the transmitter is basically being switched from full amplitude to zero amplitude that is completely off so what we need to do is add an **amplitude plot**. The the red line in the center is the center frequency of my tuning and the white lines at the top and bottom are showing the edges of the filter that I'm using to filter this channel and so you can kind of adjust if you want a wider filter you can drag them out and if you want a narrower filter. \n",
    "\n",
    "<img src=\"nbimages/inspectrum_2_amplitude_plot.png\" alt=\"Drawing\" />"
   ]
  },
  {
   "cell_type": "markdown",
   "id": "314e9874-f040-4344-98e0-bc8aa0b08cb3",
   "metadata": {},
   "source": [
    "### 3. Thresholding\n",
    "The next thing that we can do is you can take this amplitude demodulated signal and add another derived plot, **threshold** plot, and now anything below this dotted line will be counted as a zero and anything above the dotted line will be counted as a one. So, now we have a nice clean representation of kind of all the ons and offs in this signal. \n",
    "\n",
    "<img src=\"nbimages/inspectrum_3_thresholding.png\" alt=\"Drawing\" /> "
   ]
  },
  {
   "cell_type": "markdown",
   "id": "022c0db4-320a-48ce-9245-7d4646ac0073",
   "metadata": {},
   "source": [
    "### 4. Measuring the baudrate\n",
    "The next thing we need to do is figure out when we're going to measure this signal to see you know where are the ones and zeros and to do that in Spectrum you need to turn on the **cursors**. Cursors have a bunch of uses you can also use them just to measure the baud rates of signals. \n",
    "\n",
    "<img src=\"nbimages/inspectrum_4_measuring_baud.png\" alt=\"Drawing\" /> "
   ]
  },
  {
   "cell_type": "markdown",
   "id": "c3482a66-088a-4a6c-a4a8-7c2ce2ebe593",
   "metadata": {},
   "source": [
    "### 5. Obtaining Bits\n",
    "We can start by using cursor for one bit period but eventually once you have the cursor set up properly you can also use them to demodulate and extract data from things. Just looking at kind of one bit period where the transmitter is on you can get a rough idea how long burst will be. Then gradually increase symbol count to 10, 50, and finally to 100. Make sure that we're staying lined up with the bit periods there like my dotted lines are lining up exactly with the bit transitions. So, once you have everything lined up and we're lined up on the threshold plot you can right click there and say **extract symbols**. You can either go to standard output or to the  clipboard. If you choose clipboard, clipboard should have a set of bits okay one zero one zero one zero that sounds about right for the start of the signal and then eventually we get into where the actual bits of the message are. \n",
    "\n",
    "<img src=\"nbimages/inspectrum_5_bits.png\" alt=\"Drawing\" /> "
   ]
  },
  {
   "cell_type": "code",
   "execution_count": null,
   "id": "79cd9491-fd4a-4efc-b5e4-8ea6f870a4c8",
   "metadata": {},
   "outputs": [],
   "source": [
    "import bitarray\n",
    "# read data from file\n",
    "openFile = open(\"solutions/bits_A.txt\", \"r\")\n",
    "str = openFile.read().rstrip()\n",
    "openFile.close()\n",
    "data= [int(e) if e.strip().isdigit() else e for e in str.split(',')]\n",
    "data = data[:-1]\n",
    "print(bitarray.bitarray(data).tobytes())\n",
    "print (''.join('{:02x}'.format(x) for x in bitarray.bitarray(data).tobytes()))"
   ]
  },
  {
   "cell_type": "code",
   "execution_count": null,
   "id": "56a0ec06-074e-44eb-862f-a41b81f14491",
   "metadata": {},
   "outputs": [],
   "source": [
    "import bitarray\n",
    "# read data from file\n",
    "openFile = open(\"solutions/bits_B.txt\", \"r\")\n",
    "str = openFile.read().rstrip()\n",
    "openFile.close()\n",
    "data= [int(e) if e.strip().isdigit() else e for e in str.split(',')]\n",
    "data = data[:-1]\n",
    "print(bitarray.bitarray(data).tobytes())\n",
    "print (''.join('{:02x}'.format(x) for x in bitarray.bitarray(data).tobytes()))"
   ]
  },
  {
   "cell_type": "code",
   "execution_count": null,
   "id": "2745e51f-9cfe-4227-a76a-9712d373d8f5",
   "metadata": {},
   "outputs": [],
   "source": [
    "import bitarray\n",
    "# read data from file\n",
    "openFile = open(\"solutions/bits_OnOff.txt\", \"r\")\n",
    "str = openFile.read().rstrip()\n",
    "openFile.close()\n",
    "data= [int(e) if e.strip().isdigit() else e for e in str.split(',')]\n",
    "data = data[:-1]\n",
    "print(bitarray.bitarray(data).tobytes())\n",
    "print (''.join('{:02x}'.format(x) for x in bitarray.bitarray(data).tobytes()))"
   ]
  },
  {
   "cell_type": "markdown",
   "id": "99d0846a-ab92-4a01-babf-534a25add750",
   "metadata": {},
   "source": [
    "# Replay Attack by Synthesizing the Signal with GNU Radio\n",
    "The next step is to create the desired signal on the fly, directly from GNURadio. Below is the flowgraph that can be used to tranmit the bits we have obtained preivously over the air.  \n",
    "\n",
    "<img src=\"nbimages/grc_6_synthesize.png\" alt=\"Drawing\" /> "
   ]
  }
 ],
 "metadata": {
  "kernelspec": {
   "display_name": "Python 3 (ipykernel)",
   "language": "python",
   "name": "python3"
  },
  "language_info": {
   "codemirror_mode": {
    "name": "ipython",
    "version": 3
   },
   "file_extension": ".py",
   "mimetype": "text/x-python",
   "name": "python",
   "nbconvert_exporter": "python",
   "pygments_lexer": "ipython3",
   "version": "3.10.14"
  },
  "toc-autonumbering": false,
  "toc-showcode": false,
  "toc-showmarkdowntxt": false
 },
 "nbformat": 4,
 "nbformat_minor": 5
}
