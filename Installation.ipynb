{
 "cells": [
  {
   "cell_type": "markdown",
   "id": "2b50e26e-90bd-465e-8f1d-de236315836d",
   "metadata": {},
   "source": [
    "# Prerequisities\n",
    "## Jupyter Lab Installation\n",
    "### Step 1: Install with pip\n",
    "```\n",
    "pip install jupyterlab\n",
    "jupyter lab\n",
    "```\n",
    "### Step 2: Confirm Installation by Running Jupyter Lab\n",
    "```\n",
    "jupyter lab\n",
    "```\n",
    "## Step-by-Step HackRF Installation (Using Linux Packages)\n",
    "### Step 1: Update and Install HackRF Packages\n",
    "```\n",
    "sudo apt update\n",
    "sudo apt install -y hackrf libhackrf-dev hackrf-tools\n",
    "```\n",
    "This installs:\n",
    "- hackrf_info\n",
    "- hackrf_transfer\n",
    "- hackrf_sweep\n",
    "- libhackrf (library)\n",
    "- Udev rules for USB access (often included)\n",
    "### Step 2: Verify HackRF Connection\n",
    "With the HackRF connected via USB, run:\n",
    "```\n",
    "hackrf_info\n",
    "```\n",
    "Expected output (sample):\n",
    "```\n",
    "$ hackrf_info \n",
    "hackrf_info version: unknown\n",
    "libhackrf version: unknown (0.6)\n",
    "Found HackRF\n",
    "Index: 0\n",
    "Serial number: 0000000000000000f77c60dc273988c3\n",
    "Board ID Number: 2 (HackRF One)\n",
    "Firmware Version: 2021.03.1 (API:1.04)\n",
    "Part ID Number: 0xa000cb3c 0x0046476f\n",
    "```\n",
    "## Inspectrum Installation\n",
    "\n"
   ]
  }
 ],
 "metadata": {
  "kernelspec": {
   "display_name": "Python 3 (ipykernel)",
   "language": "python",
   "name": "python3"
  },
  "language_info": {
   "codemirror_mode": {
    "name": "ipython",
    "version": 3
   },
   "file_extension": ".py",
   "mimetype": "text/x-python",
   "name": "python",
   "nbconvert_exporter": "python",
   "pygments_lexer": "ipython3",
   "version": "3.11.3"
  }
 },
 "nbformat": 4,
 "nbformat_minor": 5
}
